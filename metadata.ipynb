{
 "cells": [
  {
   "cell_type": "code",
   "execution_count": 1,
   "metadata": {},
   "outputs": [],
   "source": [
    "import pandas as pd\n",
    "import os\n",
    "import soundfile as sf"
   ]
  },
  {
   "cell_type": "code",
   "execution_count": 2,
   "metadata": {},
   "outputs": [],
   "source": [
    "folder_path = \"/home/ammar/Desktop/VectraCom/mustanad_jawab/assets/audio_classifier_data_3\""
   ]
  },
  {
   "cell_type": "code",
   "execution_count": 3,
   "metadata": {},
   "outputs": [],
   "source": [
    "accepted_path = os.path.join(folder_path,\"accepted\")\n",
    "files = os.listdir(accepted_path)\n",
    "error_accepted = list()\n",
    "for file in files:\n",
    "    try:\n",
    "        audio = os.path.join(accepted_path,file)\n",
    "        # mp3, sr = librosa.load(audio, sr=44100, mono=True)\n",
    "        mp3, sr = sf.read(audio, dtype='float32')\n",
    "    except:\n",
    "        error_accepted.append(file)   "
   ]
  },
  {
   "cell_type": "code",
   "execution_count": 4,
   "metadata": {},
   "outputs": [
    {
     "data": {
      "text/plain": [
       "1"
      ]
     },
     "execution_count": 4,
     "metadata": {},
     "output_type": "execute_result"
    }
   ],
   "source": [
    "len(error_accepted)"
   ]
  },
  {
   "cell_type": "code",
   "execution_count": 5,
   "metadata": {},
   "outputs": [],
   "source": [
    "rejected_path = os.path.join(folder_path,\"rejected\")\n",
    "error_rejected = list()\n",
    "files = os.listdir(rejected_path)\n",
    "for file in files: \n",
    "    try:\n",
    "        audio = os.path.join(rejected_path,file)\n",
    "        # mp3, sr = librosa.load(audio, sr=None, mono=True)\n",
    "        mp3, sr = sf.read(audio, dtype='float32')\n",
    "    except:\n",
    "        error_rejected.append(file)"
   ]
  },
  {
   "cell_type": "code",
   "execution_count": 6,
   "metadata": {},
   "outputs": [
    {
     "data": {
      "text/plain": [
       "10"
      ]
     },
     "execution_count": 6,
     "metadata": {},
     "output_type": "execute_result"
    }
   ],
   "source": [
    "len(error_rejected)"
   ]
  },
  {
   "cell_type": "code",
   "execution_count": 7,
   "metadata": {},
   "outputs": [
    {
     "name": "stdout",
     "output_type": "stream",
     "text": [
      "['923112175184_VXT_Mufti_IVR_Q_20220530090458.wav', '923075877595_VXT_Khwab_IVR_Q_20220530151448.wav', '923082346905_VXT_Khwab_IVR_Q_20220530190745.wav', '923113038333_VXT_Mufti_IVR_Q_20220530143508.wav', '923035212768_VXT_Khwab_IVR_Q_20220528220827.wav', '923106387436_VXT_Mufti_IVR_Q_20220528165147.wav', '923111058111_VXT_Mufti_IVR_Q_20220529150657.wav', '923107101271_VXT_Mufti_IVR_Q_20220530193050.wav', '923112880482_VXT_Mufti_IVR_Q_20220529100401.wav', '923035212768_VXT_Mufti_IVR_Q_20220528220633.wav']\n"
     ]
    }
   ],
   "source": [
    "print(error_rejected)"
   ]
  },
  {
   "cell_type": "code",
   "execution_count": 8,
   "metadata": {},
   "outputs": [],
   "source": [
    "data = list()\n",
    "label = list()\n",
    "accepted_path = os.path.join(folder_path,\"accepted\")\n",
    "files = os.listdir(accepted_path)\n",
    "for file in files:\n",
    "    data.append(file)\n",
    "    label.append(0)"
   ]
  },
  {
   "cell_type": "code",
   "execution_count": 9,
   "metadata": {},
   "outputs": [],
   "source": [
    "rejected_path = os.path.join(folder_path,\"rejected\")\n",
    "files = os.listdir(rejected_path)\n",
    "for file in files:\n",
    "    data.append(file)\n",
    "    label.append(1)"
   ]
  },
  {
   "cell_type": "code",
   "execution_count": 10,
   "metadata": {},
   "outputs": [],
   "source": [
    "df = pd.DataFrame(list(zip(data,label)),columns=[\"data\",\"label\"])"
   ]
  },
  {
   "cell_type": "code",
   "execution_count": 11,
   "metadata": {},
   "outputs": [
    {
     "data": {
      "text/html": [
       "<div>\n",
       "<style scoped>\n",
       "    .dataframe tbody tr th:only-of-type {\n",
       "        vertical-align: middle;\n",
       "    }\n",
       "\n",
       "    .dataframe tbody tr th {\n",
       "        vertical-align: top;\n",
       "    }\n",
       "\n",
       "    .dataframe thead th {\n",
       "        text-align: right;\n",
       "    }\n",
       "</style>\n",
       "<table border=\"1\" class=\"dataframe\">\n",
       "  <thead>\n",
       "    <tr style=\"text-align: right;\">\n",
       "      <th></th>\n",
       "      <th>data</th>\n",
       "      <th>label</th>\n",
       "    </tr>\n",
       "  </thead>\n",
       "  <tbody>\n",
       "    <tr>\n",
       "      <th>0</th>\n",
       "      <td>923138734443_VXT_Khwab_IVR_Q_20220822130729.wav</td>\n",
       "      <td>0</td>\n",
       "    </tr>\n",
       "    <tr>\n",
       "      <th>1</th>\n",
       "      <td>923145348816_VXT_Khwab_IVR_Q_20220828143501.wav</td>\n",
       "      <td>0</td>\n",
       "    </tr>\n",
       "    <tr>\n",
       "      <th>2</th>\n",
       "      <td>923154275963_VXT_Mufti_IVR_Q_20221103165253.wav</td>\n",
       "      <td>0</td>\n",
       "    </tr>\n",
       "    <tr>\n",
       "      <th>3</th>\n",
       "      <td>923175135298_VXT_Mufti_IVR_Q_20220418175329.wav</td>\n",
       "      <td>0</td>\n",
       "    </tr>\n",
       "    <tr>\n",
       "      <th>4</th>\n",
       "      <td>923172533943_VXT_Mufti_IVR_Q_20220718195646.wav</td>\n",
       "      <td>0</td>\n",
       "    </tr>\n",
       "    <tr>\n",
       "      <th>...</th>\n",
       "      <td>...</td>\n",
       "      <td>...</td>\n",
       "    </tr>\n",
       "    <tr>\n",
       "      <th>1867</th>\n",
       "      <td>923102241416_VXT_Mufti_IVR_Q_20220605100343.wav</td>\n",
       "      <td>1</td>\n",
       "    </tr>\n",
       "    <tr>\n",
       "      <th>1868</th>\n",
       "      <td>923102191842_VXT_Khwab_IVR_Q_20220913142625.wav</td>\n",
       "      <td>1</td>\n",
       "    </tr>\n",
       "    <tr>\n",
       "      <th>1869</th>\n",
       "      <td>923087390650_VXT_Mufti_IVR_Q_20220922194920.wav</td>\n",
       "      <td>1</td>\n",
       "    </tr>\n",
       "    <tr>\n",
       "      <th>1870</th>\n",
       "      <td>923111215175_VXT_Mufti_IVR_Q_20230113220905.wav</td>\n",
       "      <td>1</td>\n",
       "    </tr>\n",
       "    <tr>\n",
       "      <th>1871</th>\n",
       "      <td>923108192895_VXT_Mufti_IVR_Q_20230111165436.wav</td>\n",
       "      <td>1</td>\n",
       "    </tr>\n",
       "  </tbody>\n",
       "</table>\n",
       "<p>1872 rows × 2 columns</p>\n",
       "</div>"
      ],
      "text/plain": [
       "                                                 data  label\n",
       "0     923138734443_VXT_Khwab_IVR_Q_20220822130729.wav      0\n",
       "1     923145348816_VXT_Khwab_IVR_Q_20220828143501.wav      0\n",
       "2     923154275963_VXT_Mufti_IVR_Q_20221103165253.wav      0\n",
       "3     923175135298_VXT_Mufti_IVR_Q_20220418175329.wav      0\n",
       "4     923172533943_VXT_Mufti_IVR_Q_20220718195646.wav      0\n",
       "...                                               ...    ...\n",
       "1867  923102241416_VXT_Mufti_IVR_Q_20220605100343.wav      1\n",
       "1868  923102191842_VXT_Khwab_IVR_Q_20220913142625.wav      1\n",
       "1869  923087390650_VXT_Mufti_IVR_Q_20220922194920.wav      1\n",
       "1870  923111215175_VXT_Mufti_IVR_Q_20230113220905.wav      1\n",
       "1871  923108192895_VXT_Mufti_IVR_Q_20230111165436.wav      1\n",
       "\n",
       "[1872 rows x 2 columns]"
      ]
     },
     "execution_count": 11,
     "metadata": {},
     "output_type": "execute_result"
    }
   ],
   "source": [
    "df"
   ]
  },
  {
   "cell_type": "code",
   "execution_count": 45,
   "metadata": {},
   "outputs": [],
   "source": [
    "df.to_csv(\"/home/ammar/Desktop/VectraCom/mustanad_jawab/assets/audio_classifier_data_3/metadata.csv\", index=None)"
   ]
  }
 ],
 "metadata": {
  "kernelspec": {
   "display_name": "m_jawab",
   "language": "python",
   "name": "python3"
  },
  "language_info": {
   "codemirror_mode": {
    "name": "ipython",
    "version": 3
   },
   "file_extension": ".py",
   "mimetype": "text/x-python",
   "name": "python",
   "nbconvert_exporter": "python",
   "pygments_lexer": "ipython3",
   "version": "3.9.16"
  },
  "orig_nbformat": 4
 },
 "nbformat": 4,
 "nbformat_minor": 2
}
